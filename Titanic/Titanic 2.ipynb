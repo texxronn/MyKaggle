{
 "cells": [
  {
   "cell_type": "code",
   "execution_count": 1,
   "metadata": {
    "collapsed": true
   },
   "outputs": [],
   "source": [
    "#https://www.kaggle.com/ark2393/titanic/titanic-survival-forecast-a-first-kaggle-submit"
   ]
  },
  {
   "cell_type": "code",
   "execution_count": 37,
   "metadata": {
    "collapsed": true
   },
   "outputs": [],
   "source": [
    "import numpy as np\n",
    "import pandas as pd\n",
    "from sklearn import preprocessing, svm, tree, linear_model, metrics\n",
    "from sklearn.model_selection import train_test_split\n",
    "import matplotlib.pyplot as plt\n",
    "%matplotlib inline"
   ]
  },
  {
   "cell_type": "code",
   "execution_count": 38,
   "metadata": {},
   "outputs": [
    {
     "data": {
      "text/html": [
       "<div>\n",
       "<table border=\"1\" class=\"dataframe\">\n",
       "  <thead>\n",
       "    <tr style=\"text-align: right;\">\n",
       "      <th></th>\n",
       "      <th>PassengerId</th>\n",
       "      <th>Survived</th>\n",
       "      <th>Pclass</th>\n",
       "      <th>Name</th>\n",
       "      <th>Sex</th>\n",
       "      <th>Age</th>\n",
       "      <th>SibSp</th>\n",
       "      <th>Parch</th>\n",
       "      <th>Ticket</th>\n",
       "      <th>Fare</th>\n",
       "      <th>Cabin</th>\n",
       "      <th>Embarked</th>\n",
       "    </tr>\n",
       "  </thead>\n",
       "  <tbody>\n",
       "    <tr>\n",
       "      <th>0</th>\n",
       "      <td>1</td>\n",
       "      <td>0</td>\n",
       "      <td>3</td>\n",
       "      <td>Braund, Mr. Owen Harris</td>\n",
       "      <td>male</td>\n",
       "      <td>22.0</td>\n",
       "      <td>1</td>\n",
       "      <td>0</td>\n",
       "      <td>A/5 21171</td>\n",
       "      <td>7.2500</td>\n",
       "      <td>NaN</td>\n",
       "      <td>S</td>\n",
       "    </tr>\n",
       "    <tr>\n",
       "      <th>1</th>\n",
       "      <td>2</td>\n",
       "      <td>1</td>\n",
       "      <td>1</td>\n",
       "      <td>Cumings, Mrs. John Bradley (Florence Briggs Th...</td>\n",
       "      <td>female</td>\n",
       "      <td>38.0</td>\n",
       "      <td>1</td>\n",
       "      <td>0</td>\n",
       "      <td>PC 17599</td>\n",
       "      <td>71.2833</td>\n",
       "      <td>C85</td>\n",
       "      <td>C</td>\n",
       "    </tr>\n",
       "    <tr>\n",
       "      <th>2</th>\n",
       "      <td>3</td>\n",
       "      <td>1</td>\n",
       "      <td>3</td>\n",
       "      <td>Heikkinen, Miss. Laina</td>\n",
       "      <td>female</td>\n",
       "      <td>26.0</td>\n",
       "      <td>0</td>\n",
       "      <td>0</td>\n",
       "      <td>STON/O2. 3101282</td>\n",
       "      <td>7.9250</td>\n",
       "      <td>NaN</td>\n",
       "      <td>S</td>\n",
       "    </tr>\n",
       "    <tr>\n",
       "      <th>3</th>\n",
       "      <td>4</td>\n",
       "      <td>1</td>\n",
       "      <td>1</td>\n",
       "      <td>Futrelle, Mrs. Jacques Heath (Lily May Peel)</td>\n",
       "      <td>female</td>\n",
       "      <td>35.0</td>\n",
       "      <td>1</td>\n",
       "      <td>0</td>\n",
       "      <td>113803</td>\n",
       "      <td>53.1000</td>\n",
       "      <td>C123</td>\n",
       "      <td>S</td>\n",
       "    </tr>\n",
       "    <tr>\n",
       "      <th>4</th>\n",
       "      <td>5</td>\n",
       "      <td>0</td>\n",
       "      <td>3</td>\n",
       "      <td>Allen, Mr. William Henry</td>\n",
       "      <td>male</td>\n",
       "      <td>35.0</td>\n",
       "      <td>0</td>\n",
       "      <td>0</td>\n",
       "      <td>373450</td>\n",
       "      <td>8.0500</td>\n",
       "      <td>NaN</td>\n",
       "      <td>S</td>\n",
       "    </tr>\n",
       "  </tbody>\n",
       "</table>\n",
       "</div>"
      ],
      "text/plain": [
       "   PassengerId  Survived  Pclass  \\\n",
       "0            1         0       3   \n",
       "1            2         1       1   \n",
       "2            3         1       3   \n",
       "3            4         1       1   \n",
       "4            5         0       3   \n",
       "\n",
       "                                                Name     Sex   Age  SibSp  \\\n",
       "0                            Braund, Mr. Owen Harris    male  22.0      1   \n",
       "1  Cumings, Mrs. John Bradley (Florence Briggs Th...  female  38.0      1   \n",
       "2                             Heikkinen, Miss. Laina  female  26.0      0   \n",
       "3       Futrelle, Mrs. Jacques Heath (Lily May Peel)  female  35.0      1   \n",
       "4                           Allen, Mr. William Henry    male  35.0      0   \n",
       "\n",
       "   Parch            Ticket     Fare Cabin Embarked  \n",
       "0      0         A/5 21171   7.2500   NaN        S  \n",
       "1      0          PC 17599  71.2833   C85        C  \n",
       "2      0  STON/O2. 3101282   7.9250   NaN        S  \n",
       "3      0            113803  53.1000  C123        S  \n",
       "4      0            373450   8.0500   NaN        S  "
      ]
     },
     "execution_count": 38,
     "metadata": {},
     "output_type": "execute_result"
    }
   ],
   "source": [
    "#Load the data and get a feel\n",
    "titanic_df = pd.read_csv(\"./train.csv\")\n",
    "titanic_df.head()"
   ]
  },
  {
   "cell_type": "code",
   "execution_count": 39,
   "metadata": {},
   "outputs": [
    {
     "name": "stdout",
     "output_type": "stream",
     "text": [
      "<class 'pandas.core.frame.DataFrame'>\n",
      "RangeIndex: 891 entries, 0 to 890\n",
      "Data columns (total 12 columns):\n",
      "PassengerId    891 non-null int64\n",
      "Survived       891 non-null int64\n",
      "Pclass         891 non-null int64\n",
      "Name           891 non-null object\n",
      "Sex            891 non-null object\n",
      "Age            714 non-null float64\n",
      "SibSp          891 non-null int64\n",
      "Parch          891 non-null int64\n",
      "Ticket         891 non-null object\n",
      "Fare           891 non-null float64\n",
      "Cabin          204 non-null object\n",
      "Embarked       889 non-null object\n",
      "dtypes: float64(2), int64(5), object(5)\n",
      "memory usage: 83.6+ KB\n"
     ]
    }
   ],
   "source": [
    "titanic_df.info()"
   ]
  },
  {
   "cell_type": "code",
   "execution_count": 40,
   "metadata": {},
   "outputs": [
    {
     "name": "stdout",
     "output_type": "stream",
     "text": [
      "Cabin value count: 204 \n",
      "Age value count: 714\n",
      "Embarked value count: 889\n"
     ]
    }
   ],
   "source": [
    "#missing values for Age Cabin & Embarked\n",
    "print(\"Cabin value count: %d \" % titanic_df[\"Cabin\"].count())\n",
    "print(\"Age value count: %d\" % titanic_df[\"Age\"].count())\n",
    "print(\"Embarked value count: %d\" % titanic_df[\"Embarked\"].count())"
   ]
  },
  {
   "cell_type": "code",
   "execution_count": 41,
   "metadata": {},
   "outputs": [
    {
     "data": {
      "text/plain": [
       "S    644\n",
       "C    168\n",
       "Q     77\n",
       "Name: Embarked, dtype: int64"
      ]
     },
     "execution_count": 41,
     "metadata": {},
     "output_type": "execute_result"
    }
   ],
   "source": [
    "titanic_df.drop(\"Cabin\", axis=1, inplace=True)\n",
    "titanic_df[\"Embarked\"].value_counts()"
   ]
  },
  {
   "cell_type": "code",
   "execution_count": 42,
   "metadata": {},
   "outputs": [
    {
     "name": "stdout",
     "output_type": "stream",
     "text": [
      "<class 'pandas.core.frame.DataFrame'>\n",
      "Int64Index: 714 entries, 0 to 890\n",
      "Data columns (total 11 columns):\n",
      "PassengerId    714 non-null int64\n",
      "Survived       714 non-null int64\n",
      "Pclass         714 non-null int64\n",
      "Name           714 non-null object\n",
      "Sex            714 non-null object\n",
      "Age            714 non-null float64\n",
      "SibSp          714 non-null int64\n",
      "Parch          714 non-null int64\n",
      "Ticket         714 non-null object\n",
      "Fare           714 non-null float64\n",
      "Embarked       714 non-null object\n",
      "dtypes: float64(2), int64(5), object(4)\n",
      "memory usage: 66.9+ KB\n"
     ]
    }
   ],
   "source": [
    "titanic_df[\"Embarked\"].fillna(\"S\", inplace=True)\n",
    "titanic_df.dropna(inplace=True)\n",
    "titanic_df.info()"
   ]
  },
  {
   "cell_type": "code",
   "execution_count": 43,
   "metadata": {},
   "outputs": [
    {
     "name": "stdout",
     "output_type": "stream",
     "text": [
      "Name value count: 714 \n",
      "Ticket value count: 542 \n",
      "PassengerId value count: 714 \n",
      "Sex value count: 2 \n",
      "Embarked value count: 3 \n"
     ]
    }
   ],
   "source": [
    "print(\"Name value count: %d \" % titanic_df[\"Name\"].value_counts().size)\n",
    "print(\"Ticket value count: %d \" % titanic_df[\"Ticket\"].value_counts().size)\n",
    "print(\"PassengerId value count: %d \" % titanic_df[\"PassengerId\"].value_counts().size)\n",
    "print(\"Sex value count: %d \" % titanic_df[\"Sex\"].value_counts().size)\n",
    "print(\"Embarked value count: %d \" % titanic_df[\"Embarked\"].value_counts().size)"
   ]
  },
  {
   "cell_type": "code",
   "execution_count": 44,
   "metadata": {},
   "outputs": [],
   "source": [
    "#Name, Ticket, PassengerId have very unique values - so drop them\n",
    "titanic_df.drop([\"Name\", \"Ticket\", \"PassengerId\"], axis=1, inplace=True)\n",
    "sex_labels = titanic_df[\"Sex\"].unique()\n",
    "embark_labels = titanic_df[\"Embarked\"].unique()"
   ]
  },
  {
   "cell_type": "code",
   "execution_count": 45,
   "metadata": {
    "collapsed": true
   },
   "outputs": [],
   "source": [
    "le = preprocessing.LabelEncoder()"
   ]
  },
  {
   "cell_type": "code",
   "execution_count": 46,
   "metadata": {
    "collapsed": true
   },
   "outputs": [],
   "source": [
    "le.fit(titanic_df.Sex.values)\n",
    "titanic_df[\"Sex\"] = le.transform(titanic_df.Sex.values)\n",
    "sex_labels = titanic_df[\"Sex\"].unique()\n",
    "sex_labelsE = le.inverse_transform(sex_labels)\n",
    "le.fit(titanic_df.Embarked.values)\n",
    "titanic_df[\"Embarked\"] = le.transform(titanic_df.Embarked.values)\n",
    "embark_labels = titanic_df[\"Embarked\"].unique()\n",
    "embark_labelsE = le.inverse_transform(embark_labels)"
   ]
  },
  {
   "cell_type": "code",
   "execution_count": 47,
   "metadata": {},
   "outputs": [
    {
     "data": {
      "text/html": [
       "<div>\n",
       "<table border=\"1\" class=\"dataframe\">\n",
       "  <thead>\n",
       "    <tr style=\"text-align: right;\">\n",
       "      <th></th>\n",
       "      <th>Survived</th>\n",
       "      <th>Pclass</th>\n",
       "      <th>Sex</th>\n",
       "      <th>Age</th>\n",
       "      <th>SibSp</th>\n",
       "      <th>Parch</th>\n",
       "      <th>Fare</th>\n",
       "      <th>Embarked</th>\n",
       "    </tr>\n",
       "  </thead>\n",
       "  <tbody>\n",
       "    <tr>\n",
       "      <th>0</th>\n",
       "      <td>0</td>\n",
       "      <td>3</td>\n",
       "      <td>1</td>\n",
       "      <td>22.0</td>\n",
       "      <td>1</td>\n",
       "      <td>0</td>\n",
       "      <td>7.2500</td>\n",
       "      <td>2</td>\n",
       "    </tr>\n",
       "    <tr>\n",
       "      <th>1</th>\n",
       "      <td>1</td>\n",
       "      <td>1</td>\n",
       "      <td>0</td>\n",
       "      <td>38.0</td>\n",
       "      <td>1</td>\n",
       "      <td>0</td>\n",
       "      <td>71.2833</td>\n",
       "      <td>0</td>\n",
       "    </tr>\n",
       "    <tr>\n",
       "      <th>2</th>\n",
       "      <td>1</td>\n",
       "      <td>3</td>\n",
       "      <td>0</td>\n",
       "      <td>26.0</td>\n",
       "      <td>0</td>\n",
       "      <td>0</td>\n",
       "      <td>7.9250</td>\n",
       "      <td>2</td>\n",
       "    </tr>\n",
       "    <tr>\n",
       "      <th>3</th>\n",
       "      <td>1</td>\n",
       "      <td>1</td>\n",
       "      <td>0</td>\n",
       "      <td>35.0</td>\n",
       "      <td>1</td>\n",
       "      <td>0</td>\n",
       "      <td>53.1000</td>\n",
       "      <td>2</td>\n",
       "    </tr>\n",
       "    <tr>\n",
       "      <th>4</th>\n",
       "      <td>0</td>\n",
       "      <td>3</td>\n",
       "      <td>1</td>\n",
       "      <td>35.0</td>\n",
       "      <td>0</td>\n",
       "      <td>0</td>\n",
       "      <td>8.0500</td>\n",
       "      <td>2</td>\n",
       "    </tr>\n",
       "  </tbody>\n",
       "</table>\n",
       "</div>"
      ],
      "text/plain": [
       "   Survived  Pclass  Sex   Age  SibSp  Parch     Fare  Embarked\n",
       "0         0       3    1  22.0      1      0   7.2500         2\n",
       "1         1       1    0  38.0      1      0  71.2833         0\n",
       "2         1       3    0  26.0      0      0   7.9250         2\n",
       "3         1       1    0  35.0      1      0  53.1000         2\n",
       "4         0       3    1  35.0      0      0   8.0500         2"
      ]
     },
     "execution_count": 47,
     "metadata": {},
     "output_type": "execute_result"
    }
   ],
   "source": [
    "titanic_df.head()"
   ]
  },
  {
   "cell_type": "code",
   "execution_count": 48,
   "metadata": {},
   "outputs": [
    {
     "data": {
      "text/plain": [
       "<matplotlib.legend.Legend at 0x7fa7285135c0>"
      ]
     },
     "execution_count": 48,
     "metadata": {},
     "output_type": "execute_result"
    },
    {
     "data": {
      "image/png": "[encoded data removed]",
      "text/plain": [
       "<matplotlib.figure.Figure at 0x7fa728518978>"
      ]
     },
     "metadata": {},
     "output_type": "display_data"
    }
   ],
   "source": [
    "#Data Exploration\n",
    "fig = plt.figure()\n",
    "ax = fig.add_subplot(111)\n",
    "titanic_df.groupby('Pclass').sum()['Survived'].plot.pie(\n",
    "    figsize=(8,8), autopct = '%1.1f%%', startangle=90, fontsize=15, explode=(0.05, 0, 0))\n",
    "ax.set_ylabel('')\n",
    "ax.set_title('Survival Rate', fontsize=16)\n",
    "ax.legend(labels=titanic_df['Pclass'].unique().sort(), loc=\"best\", title=\"Class\", fontsize=14)"
   ]
  },
  {
   "cell_type": "code",
   "execution_count": 49,
   "metadata": {},
   "outputs": [
    {
     "data": {
      "text/plain": [
       "[<matplotlib.text.Text at 0x7fa7289173c8>,\n",
       " <matplotlib.text.Text at 0x7fa728b2a320>,\n",
       " <matplotlib.text.Text at 0x7fa72893dbe0>]"
      ]
     },
     "execution_count": 49,
     "metadata": {},
     "output_type": "execute_result"
    },
    {
     "data": {
      "image/png": "[encoded data removed]",
      "text/plain": [
       "<matplotlib.figure.Figure at 0x7fa728a9b320>"
      ]
     },
     "metadata": {},
     "output_type": "display_data"
    }
   ],
   "source": [
    "fig = plt.figure()\n",
    "ax = fig.add_subplot(111)\n",
    "ax.set_ylabel(\"Survival rate\")\n",
    "titanic_df.groupby(\"Pclass\").mean()[\"Survived\"].plot.bar()\n",
    "ax.set_xticklabels(labels = ax.get_xticklabels(),rotation=0)"
   ]
  },
  {
   "cell_type": "code",
   "execution_count": 50,
   "metadata": {
    "collapsed": true
   },
   "outputs": [],
   "source": [
    "#So Passenger class is an important feature for survival rate. More passengers of 1st class survved"
   ]
  },
  {
   "cell_type": "code",
   "execution_count": 51,
   "metadata": {},
   "outputs": [
    {
     "data": {
      "text/plain": [
       "[<matplotlib.text.Text at 0x7fa728b55f60>,\n",
       " <matplotlib.text.Text at 0x7fa728ba2198>]"
      ]
     },
     "execution_count": 51,
     "metadata": {},
     "output_type": "execute_result"
    },
    {
     "data": {
      "image/png": "[encoded data removed]",
      "text/plain": [
       "<matplotlib.figure.Figure at 0x7fa728b5b518>"
      ]
     },
     "metadata": {},
     "output_type": "display_data"
    }
   ],
   "source": [
    "fig = plt.figure()\n",
    "sorted_labes = [x for (y,x) in sorted(zip(sex_labels,sex_labelsE))]\n",
    "ax = fig.add_subplot(111)\n",
    "ax.set_ylabel(\"Survival rate\")\n",
    "titanic_df.groupby(\"Sex\").mean()[\"Survived\"].plot.bar()\n",
    "ax.set_xticklabels(labels = sorted_labes,rotation=20)"
   ]
  },
  {
   "cell_type": "code",
   "execution_count": 52,
   "metadata": {
    "collapsed": true
   },
   "outputs": [],
   "source": [
    "#Female passengers have greater chance to survive"
   ]
  },
  {
   "cell_type": "code",
   "execution_count": 53,
   "metadata": {},
   "outputs": [
    {
     "data": {
      "text/plain": [
       "<matplotlib.legend.Legend at 0x7fa72a25da20>"
      ]
     },
     "execution_count": 53,
     "metadata": {},
     "output_type": "execute_result"
    },
    {
     "data": {
      "image/png": "[encoded data removed]",
      "text/plain": [
       "<matplotlib.figure.Figure at 0x7fa7291c16a0>"
      ]
     },
     "metadata": {},
     "output_type": "display_data"
    }
   ],
   "source": [
    "#Data Exploration\n",
    "fig = plt.figure()\n",
    "ax = fig.add_subplot(111)\n",
    "titanic_df.groupby('Sex').sum()['Survived'].plot.pie(\n",
    "    figsize=(8,8), autopct = '%1.1f%%', startangle=90, fontsize=15, explode=(0.05, 0))\n",
    "ax.set_ylabel('')\n",
    "ax.set_title('Survival Rate', fontsize=16)\n",
    "ax.legend(labels=titanic_df['Sex'].unique().sort(), loc=\"best\", title=\"Sex\", fontsize=14)"
   ]
  },
  {
   "cell_type": "code",
   "execution_count": 54,
   "metadata": {
    "collapsed": true
   },
   "outputs": [],
   "source": [
    "#et's see plots with the relation between PClass and Sex for male and female for all the classes"
   ]
  },
  {
   "cell_type": "code",
   "execution_count": 55,
   "metadata": {},
   "outputs": [],
   "source": [
    "index_name=titanic_df.groupby([\"Pclass\",\"Sex\"]).mean()[\"Survived\"].index.names\n",
    "index_level=titanic_df.groupby([\"Pclass\",\"Sex\"]).mean()[\"Survived\"].index.levels\n",
    "index_ = zip(index_name,index_level)"
   ]
  },
  {
   "cell_type": "code",
   "execution_count": 56,
   "metadata": {},
   "outputs": [
    {
     "data": {
      "image/png": "[encoded data removed]",
      "text/plain": [
       "<matplotlib.figure.Figure at 0x7fa728a92128>"
      ]
     },
     "metadata": {},
     "output_type": "display_data"
    }
   ],
   "source": [
    "fig, axes = plt.subplots(nrows=1, ncols=3)\n",
    "titanic_df.groupby([\"Pclass\",\"Sex\"]).mean()[\"Survived\"][1].plot.bar(ax=axes[0] )\n",
    "titanic_df.groupby([\"Pclass\",\"Sex\"]).mean()[\"Survived\"][2].plot.bar(ax=axes[1] )\n",
    "titanic_df.groupby([\"Pclass\",\"Sex\"]).mean()[\"Survived\"][3].plot.bar(ax=axes[2] )\n",
    "axes[0].set_title('Class 1')\n",
    "axes[0].set_xticklabels(labels = sorted_labes,rotation=20)\n",
    "axes[0].set_yticks(np.arange(0.0,1.1,0.1))\n",
    "axes[1].set_title('Class 2')\n",
    "axes[1].set_xticklabels(labels = sorted_labes,rotation=20)\n",
    "axes[1].set_yticks(np.arange(0.0,1.1,0.1))\n",
    "axes[2].set_title('Class 3')\n",
    "axes[2].set_xticklabels(labels = sorted_labes,rotation=20)\n",
    "axes[2].set_yticks(np.arange(0.0,1.1,0.1))\n",
    "fig.tight_layout()"
   ]
  },
  {
   "cell_type": "code",
   "execution_count": 57,
   "metadata": {
    "collapsed": true
   },
   "outputs": [],
   "source": [
    "#Now, let's see about ranges of ages grouped by 10 units\n",
    "years_range = np.arange(0,90,10)"
   ]
  },
  {
   "cell_type": "code",
   "execution_count": 58,
   "metadata": {},
   "outputs": [
    {
     "data": {
      "image/png": "[encoded data removed]",
      "text/plain": [
       "<matplotlib.figure.Figure at 0x7fa728a92a58>"
      ]
     },
     "metadata": {},
     "output_type": "display_data"
    }
   ],
   "source": [
    "fig, axes = plt.subplots(nrows=3, ncols=2, figsize=(8,12))\n",
    "titanic_df.groupby(by=[\"Pclass\",\"Sex\",pd.cut(titanic_df[\"Age\"],years_range)]).mean()[\"Survived\"][1,0].plot.bar(ax=axes[0,0], title = (\"Women Class 1\") )\n",
    "titanic_df.groupby(by=[\"Pclass\",\"Sex\",pd.cut(titanic_df[\"Age\"],years_range)]).mean()[\"Survived\"][1,1].plot.bar(ax=axes[0,1], title = (\"Men Class 1\") )\n",
    "titanic_df.groupby(by=[\"Pclass\",\"Sex\",pd.cut(titanic_df[\"Age\"],years_range)]).mean()[\"Survived\"][2,0].plot.bar(ax=axes[1,0], title = (\"Women Class 2\") )\n",
    "titanic_df.groupby(by=[\"Pclass\",\"Sex\",pd.cut(titanic_df[\"Age\"],years_range)]).mean()[\"Survived\"][2,1].plot.bar(ax=axes[1,1], title = (\"Men Class 2\") )\n",
    "titanic_df.groupby(by=[\"Pclass\",\"Sex\",pd.cut(titanic_df[\"Age\"],years_range)]).mean()[\"Survived\"][3,0].plot.bar(ax=axes[2,0], title = (\"Women Class 3\") )\n",
    "titanic_df.groupby(by=[\"Pclass\",\"Sex\",pd.cut(titanic_df[\"Age\"],years_range)]).mean()[\"Survived\"][3,1].plot.bar(ax=axes[2,1], title = (\"Men Class 3\") )\n",
    "axes[0,0].set_yticks(np.arange(0.0,1.1,0.1))\n",
    "axes[0,1].set_yticks(np.arange(0.0,1.1,0.1))\n",
    "axes[1,0].set_yticks(np.arange(0.0,1.1,0.1))\n",
    "axes[1,1].set_yticks(np.arange(0.0,1.1,0.1))\n",
    "axes[2,0].set_yticks(np.arange(0.0,1.1,0.1))\n",
    "axes[2,1].set_yticks(np.arange(0.0,1.1,0.1))\n",
    "fig.tight_layout()"
   ]
  },
  {
   "cell_type": "code",
   "execution_count": 59,
   "metadata": {
    "collapsed": true
   },
   "outputs": [],
   "source": [
    "#We can see some paterns like a female passenger had bigger survival rate in all the clases than male passengers. Also we see that children and older people had the same pattern. \n",
    "#Now let's check the others features"
   ]
  },
  {
   "cell_type": "code",
   "execution_count": 62,
   "metadata": {},
   "outputs": [
    {
     "data": {
      "image/png": "[encoded data removed]",
      "text/plain": [
       "<matplotlib.figure.Figure at 0x7fa728eb2320>"
      ]
     },
     "metadata": {},
     "output_type": "display_data"
    }
   ],
   "source": [
    "fig, axes = plt.subplots(nrows=1, ncols=3)\n",
    "sorted_labes = [x for (y,x) in sorted(zip(embark_labels,embark_labelsE))]\n",
    "titanic_df.groupby([\"Pclass\",\"Embarked\"]).mean()[\"Survived\"][1].plot.bar(ax=axes[0] )\n",
    "titanic_df.groupby([\"Pclass\",\"Embarked\"]).mean()[\"Survived\"][2].plot.bar(ax=axes[1] )\n",
    "titanic_df.groupby([\"Pclass\",\"Embarked\"]).mean()[\"Survived\"][3].plot.bar(ax=axes[2] )\n",
    "axes[0].set_title('Class 1')\n",
    "axes[0].set_yticks(np.arange(0.0,1.1,0.1))\n",
    "axes[0].set_xticklabels(labels = sorted_labes,rotation=20)\n",
    "axes[1].set_title('Class 2')\n",
    "axes[1].set_yticks(np.arange(0.0,1.1,0.1))\n",
    "axes[1].set_xticklabels(labels = sorted_labes,rotation=20)\n",
    "axes[2].set_title('Class 3')\n",
    "axes[2].set_yticks(np.arange(0.0,1.1,0.1))\n",
    "axes[2].set_xticklabels(labels = sorted_labes,rotation=20)\n",
    "fig.tight_layout()"
   ]
  },
  {
   "cell_type": "code",
   "execution_count": 63,
   "metadata": {
    "collapsed": true
   },
   "outputs": [],
   "source": [
    "#There is a relation between the embarked port and the survival rate, but is not as bigger like Age and Sex"
   ]
  },
  {
   "cell_type": "code",
   "execution_count": 64,
   "metadata": {},
   "outputs": [
    {
     "data": {
      "text/plain": [
       "<matplotlib.axes._subplots.AxesSubplot at 0x7fa728e2e208>"
      ]
     },
     "execution_count": 64,
     "metadata": {},
     "output_type": "execute_result"
    },
    {
     "data": {
      "image/png": "[encoded data removed]",
      "text/plain": [
       "<matplotlib.figure.Figure at 0x7fa7287f09b0>"
      ]
     },
     "metadata": {},
     "output_type": "display_data"
    }
   ],
   "source": [
    "titanic_df.groupby(\"SibSp\").mean()[\"Survived\"].plot.bar()"
   ]
  },
  {
   "cell_type": "code",
   "execution_count": 65,
   "metadata": {},
   "outputs": [
    {
     "data": {
      "text/plain": [
       "<matplotlib.axes._subplots.AxesSubplot at 0x7fa728dd80b8>"
      ]
     },
     "execution_count": 65,
     "metadata": {},
     "output_type": "execute_result"
    },
    {
     "data": {
      "image/png": "[encoded data removed]",
      "text/plain": [
       "<matplotlib.figure.Figure at 0x7fa728ddb320>"
      ]
     },
     "metadata": {},
     "output_type": "display_data"
    }
   ],
   "source": [
    "titanic_df.groupby(\"Parch\").mean()[\"Survived\"].plot.bar()"
   ]
  },
  {
   "cell_type": "code",
   "execution_count": 66,
   "metadata": {},
   "outputs": [
    {
     "data": {
      "text/plain": [
       "<matplotlib.axes._subplots.AxesSubplot at 0x7fa7289d3940>"
      ]
     },
     "execution_count": 66,
     "metadata": {},
     "output_type": "execute_result"
    },
    {
     "data": {
      "image/png": "[encoded data removed]",
      "text/plain": [
       "<matplotlib.figure.Figure at 0x7fa728797cc0>"
      ]
     },
     "metadata": {},
     "output_type": "display_data"
    }
   ],
   "source": [
    "fare_ranges = np.arange(0,max(titanic_df.Fare)+1,max(titanic_df.Fare)/10)\n",
    "titanic_df.groupby(pd.cut(titanic_df[\"Fare\"],fare_ranges)).mean()[\"Survived\"].plot.bar()"
   ]
  },
  {
   "cell_type": "code",
   "execution_count": 67,
   "metadata": {
    "collapsed": true
   },
   "outputs": [],
   "source": [
    "#Between SibSp, Parch, Fare there is no important correlation."
   ]
  },
  {
   "cell_type": "code",
   "execution_count": 68,
   "metadata": {
    "collapsed": true
   },
   "outputs": [],
   "source": [
    "#Just to be sure, I will run a Random Forest Assesing Feature algorithm (A Feature Selection Algorithm) on the transformed features to asses if my chosed features"
   ]
  },
  {
   "cell_type": "code",
   "execution_count": 69,
   "metadata": {
    "collapsed": true
   },
   "outputs": [],
   "source": [
    "titanic_features = titanic_df.drop(\"Survived\", axis=1)\n",
    "feat_labels = titanic_df.columns[1:]"
   ]
  },
  {
   "cell_type": "code",
   "execution_count": null,
   "metadata": {},
   "outputs": [],
   "source": [
    "from sklearn import ensemble\n",
    "forest = ensemble.RandomForestClassifier(n_estimators=10000, random_state=0, n_jobs=-1)\n",
    "forest.fit(titanic_features,titanic_df[\"Survived\"])\n",
    "importances = forest.feature_importances_\n",
    "indices= np.argsort(importances)[::-1]\n",
    "for f in range(titanic_features.shape[1]):\n",
    "    print(\"%2d) %-*s %f\" % (f+1, 30, feat_labels[f], importances[indices[f]]))"
   ]
  },
  {
   "cell_type": "code",
   "execution_count": null,
   "metadata": {
    "collapsed": true
   },
   "outputs": [],
   "source": []
  }
 ],
 "metadata": {
  "kernelspec": {
   "display_name": "Python 3",
   "language": "python",
   "name": "python3"
  },
  "language_info": {
   "codemirror_mode": {
    "name": "ipython",
    "version": 3
   },
   "file_extension": ".py",
   "mimetype": "text/x-python",
   "name": "python",
   "nbconvert_exporter": "python",
   "pygments_lexer": "ipython3",
   "version": "3.6.1"
  }
 },
 "nbformat": 4,
 "nbformat_minor": 2
}
